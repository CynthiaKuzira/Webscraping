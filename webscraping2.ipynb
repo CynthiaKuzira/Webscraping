{
 "cells": [
  {
   "cell_type": "code",
   "execution_count": 1,
   "metadata": {},
   "outputs": [],
   "source": [
    "#importing packages\n",
    "import requests\n",
    "from bs4 import BeautifulSoup\n",
    "import pandas as pd\n",
    "import csv"
   ]
  },
  {
   "cell_type": "code",
   "execution_count": 2,
   "metadata": {},
   "outputs": [],
   "source": [
    "# send request to the website\n",
    "url = \"https://www.jumia.ug/\"\n",
    "html_content = requests.get(url).text\n"
   ]
  },
  {
   "cell_type": "code",
   "execution_count": 3,
   "metadata": {},
   "outputs": [],
   "source": [
    "# formating downloaded content into readable format\n",
    "soup=BeautifulSoup(html_content,\"lxml\")\n"
   ]
  },
  {
   "cell_type": "code",
   "execution_count": 4,
   "metadata": {},
   "outputs": [],
   "source": [
    " # retrieving product title\n",
    "title= soup.find(id='ctlg')\n",
    "title"
   ]
  },
  {
   "cell_type": "code",
   "execution_count": 5,
   "metadata": {},
   "outputs": [],
   "source": [
    "# Take out the <div> of name and get its value\n",
    "category = soup.find_all(\"span\", attrs={\"class\": \"text\"})"
   ]
  },
  {
   "cell_type": "code",
   "execution_count": 6,
   "metadata": {},
   "outputs": [],
   "source": [
    "\n",
    "category = soup.find_all('span',class_='text')"
   ]
  },
  {
   "cell_type": "code",
   "execution_count": 7,
   "metadata": {},
   "outputs": [],
   "source": [
    "# getting sub category\n",
    "item = soup.find_all(\"a\", attrs={\"class\":\"itm\"})"
   ]
  },
  {
   "cell_type": "code",
   "execution_count": 8,
   "metadata": {},
   "outputs": [],
   "source": [
    "#getting price\n",
    "price =soup.find_all(\"div\",attrs={\"class\":\"prc\"})"
   ]
  },
  {
   "cell_type": "code",
   "execution_count": 9,
   "metadata": {},
   "outputs": [],
   "source": [
    "# getting name of product\n",
    "name =soup.find_all(\"div\",attrs={\"class\":\"name\"})"
   ]
  },
  {
   "cell_type": "code",
   "execution_count": 11,
   "metadata": {},
   "outputs": [
    {
     "name": "stdout",
     "output_type": "stream",
     "text": [
      "['Supermarket', 'Phones & Tablets', 'Home & Office', 'Electronics', 'Health & Beauty', 'Fashion', 'Computing', 'Sporting Goods', 'Baby Products', 'Gaming', 'Garden & Outdoors', 'Other categories']\n"
     ]
    }
   ],
   "source": [
    "# finding the category list\n",
    "def category_data(soup):\n",
    "    # find the Html tag\n",
    "    # with find()\n",
    "    # and convert into string\n",
    "    data_str = \"\"\n",
    "    category_list = []\n",
    "  \n",
    "    for item in soup.find_all(\"span\", class_='text'):# scraping data without a class code\n",
    "        data_str = data_str + item.get_text()\n",
    "        category_list.append(data_str)\n",
    "        data_str = \"\"\n",
    "    return category_list\n",
    "  \n",
    "  \n",
    "category_res = category_data(soup)\n",
    "print(category_res)"
   ]
  },
  {
   "cell_type": "code",
   "execution_count": 53,
   "metadata": {},
   "outputs": [
    {
     "name": "stdout",
     "output_type": "stream",
     "text": [
      "['Supermarket', 'Phones & Tablets', 'Home & Office', 'Electronics', 'Health & Beauty', 'Fashion', 'Computing', 'Sporting Goods', 'Baby Products', 'Gaming', 'Garden & Outdoors', 'Other categories', '', '', '', '', '', '']\n"
     ]
    }
   ],
   "source": [
    "# finding the item list\n",
    "def item_data(soup):\n",
    "    # find the Html tag\n",
    "    # with find()\n",
    "    # and convert into string\n",
    "    data_str = \"\"\n",
    "    item_list = []\n",
    "  \n",
    "    for item in soup.find_all(\"a\", class_=\"itm\"):# scraping data without a class code\n",
    "        data_str = data_str + item.get_text()\n",
    "        item_list.append(data_str)\n",
    "        data_str = \"\"\n",
    "    return item_list\n",
    "  \n",
    "  \n",
    "item_res = item_data(soup)\n",
    "print(item_res)"
   ]
  },
  {
   "cell_type": "code",
   "execution_count": 21,
   "metadata": {},
   "outputs": [
    {
     "name": "stdout",
     "output_type": "stream",
     "text": [
      "['UGX 392,000', 'UGX 285,000', 'UGX 359,000', 'UGX 749,000', 'UGX 499,000', 'UGX 859,000', 'UGX 21,999', 'UGX 392,000', 'UGX 24,900', 'UGX 58,500', 'UGX 20,900', 'UGX 35,000', 'UGX 18,200', 'UGX 13,580', 'UGX 259,000', 'UGX 20,900', 'UGX 13,580', 'UGX 359,000', 'UGX 21,999', 'UGX 18,200', 'UGX 414,500', 'UGX 931,000', 'UGX 15,000', 'UGX 39,900', 'UGX 24,900', 'UGX 47,000', 'UGX 26,000', 'UGX 18,400', 'UGX 40,300', 'UGX 58,500', 'UGX 29,800', 'UGX 18,200', 'UGX 35,230', 'UGX 128,300', 'UGX 15,000', 'UGX 18,000', 'UGX 14,000', 'UGX 20,400 - UGX 21,500', 'UGX 52,000', 'UGX 136,300', 'UGX 39,900', 'UGX 38,000', 'UGX 21,400', 'UGX 11,400', 'UGX 40,300', 'UGX 39,900', 'UGX 20,400 - UGX 21,500', 'UGX 25,700', 'UGX 13,516', 'UGX 16,091', 'UGX 29,800', 'UGX 10,500', 'UGX 15,000', 'UGX 52,800', 'UGX 29,980', 'UGX 24,700', 'UGX 34,600', 'UGX 15,000', 'UGX 25,700 - UGX 26,800', 'UGX 30,000', 'UGX 108,300', 'UGX 42,000', 'UGX 61,800', 'UGX 18,200', 'UGX 56,000', 'UGX 53,400', 'UGX 27,100', 'UGX 25,500', 'UGX 35,200', 'UGX 35,600', 'UGX 37,100', 'UGX 51,900', 'UGX 23,920', 'UGX 25,500', 'UGX 50,953', 'UGX 65,600', 'UGX 25,000', 'UGX 24,900', 'UGX 69,900', 'UGX 39,900', 'UGX 85,720', 'UGX 46,600', 'UGX 43,043', 'UGX 29,800', 'UGX 24,420', 'UGX 52,800', 'UGX 65,676', 'UGX 39,000', 'UGX 57,193', 'UGX 31,400', 'UGX 750', 'UGX 5,400', 'UGX 1,800', 'UGX 2,500', 'UGX 3,700', 'UGX 20,000', 'UGX 8,000', 'UGX 11,600', 'UGX 6,000', 'UGX 300', 'UGX 4,200', 'UGX 500', 'UGX 3,800', 'UGX 1,400', 'UGX 5,900', 'UGX 20,900', 'UGX 35,000', 'UGX 72,000', 'UGX 512,200', 'UGX 118,800', 'UGX 783,600', 'UGX 545,000', 'UGX 749,000', 'UGX 76,200', 'UGX 804,200', 'UGX 29,900', 'UGX 229,000', 'UGX 82,500', 'UGX 99,000', 'UGX 91,200', 'UGX 24,900', 'UGX 58,500', 'UGX 26,000', 'UGX 18,400', 'UGX 25,700', 'UGX 22,700', 'UGX 18,400', 'UGX 19,500', 'UGX 259,000', 'UGX 239,000', 'UGX 39,998', 'UGX 77,750', 'UGX 66,900', 'UGX 23,920', 'UGX 8,700', 'UGX 359,000', 'UGX 665,000', 'UGX 405,000', 'UGX 560,000', 'UGX 749,000', 'UGX 1,385,000', 'UGX 499,000', 'UGX 394,000', 'UGX 710,000', 'UGX 448,100', 'UGX 755,000', 'UGX 699,000', 'UGX 519,000', 'UGX 597,700', 'UGX 288,400']\n"
     ]
    }
   ],
   "source": [
    "# finding the item list\n",
    "def price_data(soup):\n",
    "    # find the Html tag\n",
    "    # with find()\n",
    "    # and convert into string\n",
    "    data_str = \"\"\n",
    "    price_list = []\n",
    "  \n",
    "    for item in soup.find_all(\"div\", class_=\"prc\"):# scraping data without a class code\n",
    "        data_str = data_str + item.get_text()\n",
    "        price_list.append(data_str)\n",
    "        data_str = \"\"\n",
    "    return price_list\n",
    "  \n",
    "  \n",
    "price_res = price_data(soup)\n",
    "print(price_res)"
   ]
  },
  {
   "cell_type": "code",
   "execution_count": 23,
   "metadata": {},
   "outputs": [
    {
     "name": "stdout",
     "output_type": "stream",
     "text": [
      "['Realme C21 - 6.5\" 4GB RAM 64GB ROM 13MP 5000mAh – Cross Blue', 'Realme C11 6.5\" 2GB RAM 32GB ROM 5000mAh – Lake Blue', 'Pixel 32 Inch FRAMELESS HD Digital LED TV - Black', 'Hisense 40  Inch  FDH LED  Digital', 'Hisense 32  Inch  HDR  LED  Digital/Satellite', \"Asus Intel Celeron 15.6'' Laptop 4 GB 1TB Win 10 - Star Grey\", 'Flash Disk 128G OTG Usb Flash Drive  Micro otg & Type C', 'Realme C21 - 6.5\" 4GB RAM 64GB ROM 13MP 5000mAh - Black', 'Ladies Handbags Shoulder Bags Women Sling Bag Leather Waterproof - Black', \"Men's Business Backpack Fashion Three-piece Large Capacity School Bag-Grey\", 'Global Star Original 1.8L Stainless Electric Kettle - Silver, Black', 'Saachi Non Stick Dry Flat Iron NL-IR-145-BK - Silver,Black', \"Yarrison 3 Pack of Men's Boxers - Multicolor\", 'Flash Disk 64G high speed waterproof metal USB flash drive', 'Global Star Bluetooth Speaker Home Speaker GS-831 5.1 multimedia speaker system', 'Global Star Original 1.8L Stainless Electric Kettle - Silver, Black', 'Flash Disk 64G high speed waterproof metal USB flash drive', 'Pixel 32 Inch FRAMELESS HD Digital LED TV - Black', 'Flash Disk 128G OTG Usb Flash Drive  Micro otg & Type C', \"Yarrison 3 Pack of Men's Boxers - Multicolor\", 'Redmi 9A - 6.53\" 4GB RAM 64GB ROM 13MP 5000mAh -  stone Black Indian version', \"Lenovo IdeaPad 3 Intel Celeron N4020 15.6'' Win 10 - Black\", 'ARHANORY Ladies Wallets With Zipper Women Large Capacity Leather-Black', '4 in 1 Bag Set Ladies Handbags Women Shoulder Bags Wallet PU Leather Waterproof-Black', 'Ladies Handbags Shoulder Bags Women Sling Bag Leather Waterproof - Black', \"Three-piece men's backpack computer bag-Grey\", 'F9 Bluetooth Wireless Earphone + 2000mAh power bank', 'ARHANORY 1.1M Phone Camera Tripod Stand Lightweight- Black & Silver', \"Women's Bags Hand Bags Ladies Handbags 4pcs Bag Set Shoulder Bags Women Wallet PU Leather Waterproof-Pink\", \"Men's Business Backpack Fashion Three-piece Large Capacity School Bag-Grey\", 'Women Handbags Ladies Tote Shoulder Bag Large Capacity Canvas-Khaki', \"Yarrison 3 Pack of Men's Boxers - Multicolor\", \"Women's Summer Dress Stripe Belt Slant Shoulder Skirt Dress - Multicolour\", \"4 Pack of Men's Khaki Stretcher Trousers - Multicolor\", 'ARHANORY Ladies Wallets With Zipper Women Large Capacity Leather-Black', \"Onlyou Dark Brown Orchid Men's Perfume - 80ml\", \"Livergy 2PC Men's Quality, Comfortable Cotton Boxer - Navy Blue\", \"High Quality Lady's Slightly Faded Style, Denim Jeans,(Big Fitting) - Light Blue\", 'Designer Sneakers - Black, Pink', 'Mens Official Shirts Cotton Long Sleeve Set Of 5 Pieces -Color May Vary', '4 in 1 Bag Set Ladies Handbags Women Shoulder Bags Wallet PU Leather Waterproof-Black', 'Seamless Ladies Panties Ice Silk, 6 Pieces, Multicolor', 'Faux Leather Belts- 2pcs - Black. Design and Buckle May Vary.', 'New Set Of 8 Baby Wash Cloths - Multi-Color.', \"Women's Bags Hand Bags Ladies Handbags 4pcs Bag Set Shoulder Bags Women Wallet PU Leather Waterproof-Pink\", '4 in 1 Bag Set Ladies Handbags Women Shoulder Bags Wallet PU Leather Waterproof-Black', \"High Quality Lady's Slightly Faded Style, Denim Jeans,(Big Fitting) - Light Blue\", 'Rose Soft-soled Running Shoes - Black', 'Earring 9 Pairs Jewelry Set for Women - Gold &Cream', 'Punk Multi Layered Pearl Choker Necklace - Gold/Cream', 'Women Handbags Ladies Tote Shoulder Bag Large Capacity Canvas-Khaki', '15 Pcs/set Bohemian Retro Silver Ring Set', 'ARHANORY Ladies Wallets Women Leather Waterproof-Black', 'Ladies Handbags Women Shoulder Tote Bags Leather Waterproof-Brown', 'Elegant Studed Ladies Wristwatch With Hand Chain-Rose Gold', \"Women's Sneakers Women's Shoes ladies\", 'Breathable Lightweight Casual Sneakers - Black, White', 'Earring Jewelry Set for Women - 9 Pairs - Gold', 'Mesh Breathable Sports Shoes-black', '2 In1 Watch Fashion Rhinestone Wrist Watch For Ladies+ Bracelet Watch-Beige', \"Men's 3 Pack Of Trousers - Grey, Navy Blue & Cream\", \"Trendy Men's Tshirt - Black\", \"Men's Sneakers Summer Breathable Mesh Sports Casual Running Shoes Men's Sneakers\", \"Yarrison 3 Pack of Men's Boxers - Multicolor\", \"Martin boots men's tooling all-match high-top shoes-beige\", \"4 Pcs Shirts Men's Summer Fashion Cotton Short Sleeve Cartoon Printed Young Men T-shirt\", \"2 Pack of Men's Faux Leather Belts - Black,Brown. Design and Buckle May Vary\", \"Men's printed long-sleeved shirt-Dots\", 'Classic Hoodie Jumper - Grey', \"Men's Leather Loafer Shoes Casual Slip On - Black\", \"Men's Sneakers Men's Shoes Men's Lace-Up sneakers - Black/Red\", \"Men's Fashion White Sneakers Jogging Mesh Shoes\", 'Wrist Watch Men Military Sports Quartz Watches-Black', \"Men's printed long-sleeved shirt\", \"Men's Sneakers Men's Shoes Sports Shoes-blue\", 'Ladies Oxford Backpack Waterproof Nylon Handbag  - Black', 'Ladies Clutch Purses Handbags Women Evening Shoulder Bags Wallet - Black', 'Ladies Handbags Shoulder Bags Women Sling Bag Leather Waterproof - Black', 'Zipper Back Pack Bags & New Stainless Steel Digital Watch - Black,Gold.', '4 in 1 Bag Set Ladies Handbags Women Shoulder Bags Wallet PU Leather Waterproof-Black', 'Men Women Waterproof Nylon Outdoor Sport Casual B Royal Blue', 'Ladies Handbags Women Shoulder Bags 3 in 1 Bag Set Wallet PU Leather Waterproof-Black', \"Casual Women's Convertible Large Capacity Tote-Light Blue\", 'Women Handbags Ladies Tote Shoulder Bag Large Capacity Canvas-Khaki', \"Women's New Fashion Simple Solid-color Shoulder Bag Chain Underarm Bag\", 'Ladies Handbags Women Shoulder Tote Bags Leather Waterproof-Brown', 'PU Leather Women Handbags Ladies Shoulder Messenger Crossbody Bags', \"Women's Bags 4 Pcs Women Shoulder Bag Female Large Capacity Tote Handbags - Maroon\", \"Women's Messenger Bag Women's Handbag Shoulder Bag Set wallet 4pcs 1-pink\", 'Ladies Cluth For Party Women Handbags Shoulder Bags Crossbody Evening Bag - Black', 'Bidco Bidco Noodies Tomato & Onion Sp Kiddy 70g', 'Kakira Kakira Sugar - 1kg', 'JESA Jesa Tetra Fino - 500ml', 'Ubisco Nice Biscuits 175Gms', 'Mukwano Mukwano Chapa NyotaLaundry Washing Bar Soap BroWn - 600g', 'Weetabix 900g Vitamins & Iron', 'Ubisco Milk & Honey Biscuits (108Packets)', 'Neptune Neptune Toilet Paper - 1*10Pcs', 'Mukwano Mukwano Bright Bar Soap Multipurpose - 1 kg', 'Bahari Bahari Salt - 200g', 'Indomie Indomie Bundle of 5 Chicken Flavour Instant Noodles - 70g', 'Skin Guard Hand Sanitizer - 60ml', 'Pembe Pembe Washing Soap White - 600g', 'Indomie Noodles Beef Flavour - 120g', 'Kinyara Kinyara Irresistibly Sweet Sugar - 1kg', 'Global Star Original 1.8L Stainless Electric Kettle - Silver, Black', 'Saachi Non Stick Dry Flat Iron NL-IR-145-BK - Silver,Black', 'Digiwave 1.5L 2 In 1 Blender - White', 'Blueflame Spark 50*50, FULL GAS, P5040G-B - Black, Auto Ignition', 'Digiwave Commercial Blender 2Litres DW-BL1103 - Black', 'ADH BCD30X98 138 Liters Double Door Refrigerator - Colour May Vary', 'Sano 55X55 Full Gas Cooker - Black', 'Chiq CD155 153L- Double Door Refrigerator  - Black', 'Electro Master EM-RC-1033 1.0L Rice Cooker - White', 'ADH 158Litres Top Freezer Double Door Refrigerator - Silver', 'Electro Master EM-PS1238 Personal Scale Glass', 'Blueflame BF-0123 - 40 Liters Mini Oven - Black', 'Electro Master Electro Masters EM-BL-1066 Unbreakable Jar Blender - 1.5L', 'Electro Master EM-MG - 1219 2L Meat Grinder - Black', 'Morado Rice Cooker - 3 Litres - Color May Vary', 'Ladies Handbags Shoulder Bags Women Sling Bag Leather Waterproof - Black', \"Men's Business Backpack Fashion Three-piece Large Capacity School Bag-Grey\", 'F9 Bluetooth Wireless Earphone + 2000mAh power bank', 'ARHANORY 1.1M Phone Camera Tripod Stand Lightweight- Black & Silver', 'Rose Soft-soled Running Shoes - Black', 'Wireless Mouse Bluetooth Silent Rechargeable With RGB LED Backlit', 'ARHANORY Phone Tripod Stand Ring Light Selfie Stick-Black', 'Metal Foldable Adjustable Stand Holder For Laptop', 'Global Star Bluetooth Speaker Home Speaker GS-831 5.1 multimedia speaker system', 'Global Star Microwave Oven With Rotisserie, 45 Litre - GS4500 Silver', \"2 Piece Men's T-Shirt & Shorts Set - Navy Blue\", 'Oraimo Power Bank 20000mAh High Capacity Dual USB Output OPB-P204D', 'Qcy T13 Earbuds Wireless Headsets Bluetooth Earphones BT 5.1 Noise Canceling Earphones IPX5 Waterproof True Wireless 4-Mic & ENC Headphone 40H Battery Life', 'Wrist Watch Men Military Sports Quartz Watches-Black', 'Oraimo Oriamo Conch 2 3.5mm Wired Earphones in-Ear with Mic', 'Pixel 32 Inch FRAMELESS HD Digital LED TV - Black', 'Pixel 40 Inch Android Smart TV – Black', 'Saachi 32 inch Flat Screen TV - Black With Inbuilt Decoder', 'Changhong 32 Inch Frameless Google Certified Android Smart Led TV Black', 'Hisense 40  Inch  FDH LED  Digital', 'Pixel 55 Inch 4K Android Smart TV – Black', 'Hisense 32  Inch  HDR  LED  Digital/Satellite', 'Global Star 32\" inch Digital LED HD TV Free-To-Air + Free Wall Mount -Black', 'Global Star 43\" Inch Digital LED HD TV Inbuilt Free-To-Air, Crystal Clear Display -Black', 'Saachi 32 inch Digital Frameless Pure View Tv With Inbuilt Decoder - Black', 'Chiq 40 Inch Frameless Google Certified Android Smart Led TV Black', 'Saachi 40 Inch Smart Android LED TV - Black', 'Sky 32Inch Android Smart HD Digital Satellite Receiver LED TV - Black', 'Hisense 32  Inch  HDR  LED Digital  Smart  VIDA', 'Flat Screen Tv 22 Inch Free To Air - Black']\n"
     ]
    }
   ],
   "source": [
    "# finding the item list\n",
    "def name_data(soup):\n",
    "    # find the Html tag\n",
    "    # with find()\n",
    "    # and convert into string\n",
    "    data_str = \"\"\n",
    "    name_list = []\n",
    "  \n",
    "    for item in soup.find_all(\"div\", class_=\"name\"):# scraping data without a class code\n",
    "        data_str = data_str + item.get_text()\n",
    "        name_list.append(data_str)\n",
    "        data_str = \"\"\n",
    "    return name_list\n",
    "  \n",
    "  \n",
    "name_res = name_data(soup)\n",
    "print(name_res)"
   ]
  },
  {
   "cell_type": "code",
   "execution_count": 56,
   "metadata": {},
   "outputs": [],
   "source": [
    "# saving the data into a csv\n",
    "# initialise data of lists.\n",
    "data = {'Category': category_res,\n",
    "        'Name': name_res,\n",
    "        'Price':price_res}\n",
    "  \n",
    "# Create DataFrame\n",
    "df = pd.concat([pd.DataFrame(v,columns=[k])for k, v in data.items()],axis=1)# code to make dataframe lengths equal\n",
    "  \n",
    "# Save the output.\n",
    "df.to_csv('jumia_products.csv')\n"
   ]
  },
  {
   "cell_type": "code",
   "execution_count": 57,
   "metadata": {},
   "outputs": [
    {
     "data": {
      "text/html": [
       "<div>\n",
       "<style scoped>\n",
       "    .dataframe tbody tr th:only-of-type {\n",
       "        vertical-align: middle;\n",
       "    }\n",
       "\n",
       "    .dataframe tbody tr th {\n",
       "        vertical-align: top;\n",
       "    }\n",
       "\n",
       "    .dataframe thead th {\n",
       "        text-align: right;\n",
       "    }\n",
       "</style>\n",
       "<table border=\"1\" class=\"dataframe\">\n",
       "  <thead>\n",
       "    <tr style=\"text-align: right;\">\n",
       "      <th></th>\n",
       "      <th>Category</th>\n",
       "      <th>Name</th>\n",
       "      <th>Price</th>\n",
       "    </tr>\n",
       "  </thead>\n",
       "  <tbody>\n",
       "    <tr>\n",
       "      <th>0</th>\n",
       "      <td>Supermarket</td>\n",
       "      <td>Realme C21 - 6.5\" 4GB RAM 64GB ROM 13MP 5000mA...</td>\n",
       "      <td>UGX 392,000</td>\n",
       "    </tr>\n",
       "    <tr>\n",
       "      <th>1</th>\n",
       "      <td>Phones &amp; Tablets</td>\n",
       "      <td>Realme C11 6.5\" 2GB RAM 32GB ROM 5000mAh – Lak...</td>\n",
       "      <td>UGX 285,000</td>\n",
       "    </tr>\n",
       "    <tr>\n",
       "      <th>2</th>\n",
       "      <td>Home &amp; Office</td>\n",
       "      <td>Pixel 32 Inch FRAMELESS HD Digital LED TV - Black</td>\n",
       "      <td>UGX 359,000</td>\n",
       "    </tr>\n",
       "    <tr>\n",
       "      <th>3</th>\n",
       "      <td>Electronics</td>\n",
       "      <td>Hisense 40  Inch  FDH LED  Digital</td>\n",
       "      <td>UGX 749,000</td>\n",
       "    </tr>\n",
       "    <tr>\n",
       "      <th>4</th>\n",
       "      <td>Health &amp; Beauty</td>\n",
       "      <td>Hisense 32  Inch  HDR  LED  Digital/Satellite</td>\n",
       "      <td>UGX 499,000</td>\n",
       "    </tr>\n",
       "    <tr>\n",
       "      <th>5</th>\n",
       "      <td>Fashion</td>\n",
       "      <td>Asus Intel Celeron 15.6'' Laptop 4 GB 1TB Win ...</td>\n",
       "      <td>UGX 859,000</td>\n",
       "    </tr>\n",
       "    <tr>\n",
       "      <th>6</th>\n",
       "      <td>Computing</td>\n",
       "      <td>Flash Disk 128G OTG Usb Flash Drive  Micro otg...</td>\n",
       "      <td>UGX 21,999</td>\n",
       "    </tr>\n",
       "    <tr>\n",
       "      <th>7</th>\n",
       "      <td>Sporting Goods</td>\n",
       "      <td>Realme C21 - 6.5\" 4GB RAM 64GB ROM 13MP 5000mA...</td>\n",
       "      <td>UGX 392,000</td>\n",
       "    </tr>\n",
       "    <tr>\n",
       "      <th>8</th>\n",
       "      <td>Baby Products</td>\n",
       "      <td>Ladies Handbags Shoulder Bags Women Sling Bag ...</td>\n",
       "      <td>UGX 24,900</td>\n",
       "    </tr>\n",
       "    <tr>\n",
       "      <th>9</th>\n",
       "      <td>Gaming</td>\n",
       "      <td>Men's Business Backpack Fashion Three-piece La...</td>\n",
       "      <td>UGX 58,500</td>\n",
       "    </tr>\n",
       "    <tr>\n",
       "      <th>10</th>\n",
       "      <td>Garden &amp; Outdoors</td>\n",
       "      <td>Global Star Original 1.8L Stainless Electric K...</td>\n",
       "      <td>UGX 20,900</td>\n",
       "    </tr>\n",
       "    <tr>\n",
       "      <th>11</th>\n",
       "      <td>Other categories</td>\n",
       "      <td>Saachi Non Stick Dry Flat Iron NL-IR-145-BK - ...</td>\n",
       "      <td>UGX 35,000</td>\n",
       "    </tr>\n",
       "    <tr>\n",
       "      <th>12</th>\n",
       "      <td>NaN</td>\n",
       "      <td>Yarrison 3 Pack of Men's Boxers - Multicolor</td>\n",
       "      <td>UGX 18,200</td>\n",
       "    </tr>\n",
       "    <tr>\n",
       "      <th>13</th>\n",
       "      <td>NaN</td>\n",
       "      <td>Flash Disk 64G high speed waterproof metal USB...</td>\n",
       "      <td>UGX 13,580</td>\n",
       "    </tr>\n",
       "    <tr>\n",
       "      <th>14</th>\n",
       "      <td>NaN</td>\n",
       "      <td>Global Star Bluetooth Speaker Home Speaker GS-...</td>\n",
       "      <td>UGX 259,000</td>\n",
       "    </tr>\n",
       "  </tbody>\n",
       "</table>\n",
       "</div>"
      ],
      "text/plain": [
       "             Category                                               Name  \\\n",
       "0         Supermarket  Realme C21 - 6.5\" 4GB RAM 64GB ROM 13MP 5000mA...   \n",
       "1    Phones & Tablets  Realme C11 6.5\" 2GB RAM 32GB ROM 5000mAh – Lak...   \n",
       "2       Home & Office  Pixel 32 Inch FRAMELESS HD Digital LED TV - Black   \n",
       "3         Electronics                 Hisense 40  Inch  FDH LED  Digital   \n",
       "4     Health & Beauty      Hisense 32  Inch  HDR  LED  Digital/Satellite   \n",
       "5             Fashion  Asus Intel Celeron 15.6'' Laptop 4 GB 1TB Win ...   \n",
       "6           Computing  Flash Disk 128G OTG Usb Flash Drive  Micro otg...   \n",
       "7      Sporting Goods  Realme C21 - 6.5\" 4GB RAM 64GB ROM 13MP 5000mA...   \n",
       "8       Baby Products  Ladies Handbags Shoulder Bags Women Sling Bag ...   \n",
       "9              Gaming  Men's Business Backpack Fashion Three-piece La...   \n",
       "10  Garden & Outdoors  Global Star Original 1.8L Stainless Electric K...   \n",
       "11   Other categories  Saachi Non Stick Dry Flat Iron NL-IR-145-BK - ...   \n",
       "12                NaN       Yarrison 3 Pack of Men's Boxers - Multicolor   \n",
       "13                NaN  Flash Disk 64G high speed waterproof metal USB...   \n",
       "14                NaN  Global Star Bluetooth Speaker Home Speaker GS-...   \n",
       "\n",
       "          Price  \n",
       "0   UGX 392,000  \n",
       "1   UGX 285,000  \n",
       "2   UGX 359,000  \n",
       "3   UGX 749,000  \n",
       "4   UGX 499,000  \n",
       "5   UGX 859,000  \n",
       "6    UGX 21,999  \n",
       "7   UGX 392,000  \n",
       "8    UGX 24,900  \n",
       "9    UGX 58,500  \n",
       "10   UGX 20,900  \n",
       "11   UGX 35,000  \n",
       "12   UGX 18,200  \n",
       "13   UGX 13,580  \n",
       "14  UGX 259,000  "
      ]
     },
     "execution_count": 57,
     "metadata": {},
     "output_type": "execute_result"
    }
   ],
   "source": [
    "# viweing the dataframe\n",
    "df.head(15)"
   ]
  }
 ],
 "metadata": {
  "kernelspec": {
   "display_name": "Python 3.9.12 ('base')",
   "language": "python",
   "name": "python3"
  },
  "language_info": {
   "codemirror_mode": {
    "name": "ipython",
    "version": 3
   },
   "file_extension": ".py",
   "mimetype": "text/x-python",
   "name": "python",
   "nbconvert_exporter": "python",
   "pygments_lexer": "ipython3",
   "version": "3.9.12"
  },
  "orig_nbformat": 4,
  "vscode": {
   "interpreter": {
    "hash": "dd72fa48215d7695200837811f556ad50bb8d678194095102d74cb96190fa8a3"
   }
  }
 },
 "nbformat": 4,
 "nbformat_minor": 2
}
